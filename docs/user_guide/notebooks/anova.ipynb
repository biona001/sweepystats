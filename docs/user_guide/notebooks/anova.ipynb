{
 "cells": [
  {
   "cell_type": "markdown",
   "id": "31b8b634-9953-49ce-b8c8-2e199a6ec64b",
   "metadata": {},
   "source": [
    "# ANOVA"
   ]
  },
  {
   "cell_type": "code",
   "execution_count": 1,
   "id": "2d6652af-6c45-4885-83ed-7044850c1697",
   "metadata": {},
   "outputs": [],
   "source": [
    "import sweepystats as sw\n",
    "import numpy as np\n",
    "import pandas as pd"
   ]
  },
  {
   "cell_type": "markdown",
   "id": "bfb03d5a-e0b5-43a2-ae01-069d98ba364e",
   "metadata": {},
   "source": [
    "## 1-way ANOVA"
   ]
  },
  {
   "cell_type": "markdown",
   "id": "5d9c79fc-74d2-4f28-9c73-9252d98b8394",
   "metadata": {},
   "source": [
    "Suppose we are given an example data set, and we want to know:\n",
    "\n",
    "> Do samples in different `Group` have different `Outcome`s?"
   ]
  },
  {
   "cell_type": "code",
   "execution_count": 2,
   "id": "5d91bfb9-8116-4758-81c9-b52553499ba1",
   "metadata": {},
   "outputs": [
    {
     "data": {
      "text/html": [
       "<div>\n",
       "<style scoped>\n",
       "    .dataframe tbody tr th:only-of-type {\n",
       "        vertical-align: middle;\n",
       "    }\n",
       "\n",
       "    .dataframe tbody tr th {\n",
       "        vertical-align: top;\n",
       "    }\n",
       "\n",
       "    .dataframe thead th {\n",
       "        text-align: right;\n",
       "    }\n",
       "</style>\n",
       "<table border=\"1\" class=\"dataframe\">\n",
       "  <thead>\n",
       "    <tr style=\"text-align: right;\">\n",
       "      <th></th>\n",
       "      <th>Outcome</th>\n",
       "      <th>Group</th>\n",
       "    </tr>\n",
       "  </thead>\n",
       "  <tbody>\n",
       "    <tr>\n",
       "      <th>0</th>\n",
       "      <td>3.6</td>\n",
       "      <td>A</td>\n",
       "    </tr>\n",
       "    <tr>\n",
       "      <th>1</th>\n",
       "      <td>3.5</td>\n",
       "      <td>A</td>\n",
       "    </tr>\n",
       "    <tr>\n",
       "      <th>2</th>\n",
       "      <td>4.2</td>\n",
       "      <td>B</td>\n",
       "    </tr>\n",
       "    <tr>\n",
       "      <th>3</th>\n",
       "      <td>2.7</td>\n",
       "      <td>B</td>\n",
       "    </tr>\n",
       "    <tr>\n",
       "      <th>4</th>\n",
       "      <td>4.1</td>\n",
       "      <td>A</td>\n",
       "    </tr>\n",
       "    <tr>\n",
       "      <th>5</th>\n",
       "      <td>5.2</td>\n",
       "      <td>C</td>\n",
       "    </tr>\n",
       "    <tr>\n",
       "      <th>6</th>\n",
       "      <td>3.0</td>\n",
       "      <td>B</td>\n",
       "    </tr>\n",
       "    <tr>\n",
       "      <th>7</th>\n",
       "      <td>4.8</td>\n",
       "      <td>C</td>\n",
       "    </tr>\n",
       "    <tr>\n",
       "      <th>8</th>\n",
       "      <td>4.0</td>\n",
       "      <td>C</td>\n",
       "    </tr>\n",
       "  </tbody>\n",
       "</table>\n",
       "</div>"
      ],
      "text/plain": [
       "   Outcome Group\n",
       "0      3.6     A\n",
       "1      3.5     A\n",
       "2      4.2     B\n",
       "3      2.7     B\n",
       "4      4.1     A\n",
       "5      5.2     C\n",
       "6      3.0     B\n",
       "7      4.8     C\n",
       "8      4.0     C"
      ]
     },
     "execution_count": 2,
     "metadata": {},
     "output_type": "execute_result"
    }
   ],
   "source": [
    "df = pd.DataFrame({\n",
    "    'Outcome': [3.6, 3.5, 4.2, 2.7, 4.1, 5.2, 3.0, 4.8, 4.0],\n",
    "    'Group': pd.Categorical([\"A\", \"A\", \"B\", \"B\", \"A\", \"C\", \"B\", \"C\", \"C\"]), \n",
    "})\n",
    "df"
   ]
  },
  {
   "cell_type": "markdown",
   "id": "c8fda7b6-5ff2-489f-84f7-6dc29514888b",
   "metadata": {},
   "source": [
    "Statistically, we want to test whether the mean of each group (i.e. categories A vs B vs C) is different. The null hypothesis is $\\mu_A = \\mu_B = \\mu_C$ . For this, we can conduct a 1-way ANOVA. \n",
    "\n",
    "`Sweepystats` accepts patsy's [formula](https://patsy.readthedocs.io/en/latest/formulas.html) to specify which variable is being considered."
   ]
  },
  {
   "cell_type": "code",
   "execution_count": 3,
   "id": "bf26ecb7-2e66-4679-80fd-69f32471669a",
   "metadata": {},
   "outputs": [
    {
     "name": "stderr",
     "output_type": "stream",
     "text": [
      "100%|████████████████████████████████████████████| 3/3 [00:00<00:00, 7341.26it/s]\n"
     ]
    }
   ],
   "source": [
    "formula = \"Outcome ~ Group\"\n",
    "one_way = sw.ANOVA(df, formula)\n",
    "one_way.fit()"
   ]
  },
  {
   "cell_type": "markdown",
   "id": "796578b2-7361-4ad5-94fd-229d91f3afec",
   "metadata": {},
   "source": [
    "The F-statistic and p-value can be extracted as:"
   ]
  },
  {
   "cell_type": "code",
   "execution_count": 5,
   "id": "1ca3007b-48a1-4312-bc79-5e60a408467a",
   "metadata": {},
   "outputs": [
    {
     "data": {
      "text/plain": [
       "(np.float64(3.96686746987947), np.float64(0.07984562357182826))"
      ]
     },
     "execution_count": 5,
     "metadata": {},
     "output_type": "execute_result"
    }
   ],
   "source": [
    "f_stat, pval = one_way.f_test(\"Group\")\n",
    "f_stat, pval"
   ]
  },
  {
   "cell_type": "markdown",
   "id": "7d3f2bc3-4ffe-4766-8d91-11ad11f8e6a3",
   "metadata": {},
   "source": [
    "If we reject the null at $\\alpha = 0.05$ level, then no, there is no statistically significant difference between at least one pair of group means."
   ]
  },
  {
   "cell_type": "markdown",
   "id": "4792fd7c-7be9-4913-8c28-1c345a400095",
   "metadata": {},
   "source": [
    "### Check answer is correct\n",
    "\n",
    "We can compare the answer via sweep operator is correct using `statsmodels` package:"
   ]
  },
  {
   "cell_type": "code",
   "execution_count": 6,
   "id": "823c3749-e063-4fdd-8600-c1c8477a1c6b",
   "metadata": {},
   "outputs": [
    {
     "data": {
      "text/html": [
       "<div>\n",
       "<style scoped>\n",
       "    .dataframe tbody tr th:only-of-type {\n",
       "        vertical-align: middle;\n",
       "    }\n",
       "\n",
       "    .dataframe tbody tr th {\n",
       "        vertical-align: top;\n",
       "    }\n",
       "\n",
       "    .dataframe thead th {\n",
       "        text-align: right;\n",
       "    }\n",
       "</style>\n",
       "<table border=\"1\" class=\"dataframe\">\n",
       "  <thead>\n",
       "    <tr style=\"text-align: right;\">\n",
       "      <th></th>\n",
       "      <th>sum_sq</th>\n",
       "      <th>df</th>\n",
       "      <th>F</th>\n",
       "      <th>PR(&gt;F)</th>\n",
       "    </tr>\n",
       "  </thead>\n",
       "  <tbody>\n",
       "    <tr>\n",
       "      <th>Intercept</th>\n",
       "      <td>41.813333</td>\n",
       "      <td>1.0</td>\n",
       "      <td>113.349398</td>\n",
       "      <td>0.000040</td>\n",
       "    </tr>\n",
       "    <tr>\n",
       "      <th>Group</th>\n",
       "      <td>2.926667</td>\n",
       "      <td>2.0</td>\n",
       "      <td>3.966867</td>\n",
       "      <td>0.079846</td>\n",
       "    </tr>\n",
       "    <tr>\n",
       "      <th>Residual</th>\n",
       "      <td>2.213333</td>\n",
       "      <td>6.0</td>\n",
       "      <td>NaN</td>\n",
       "      <td>NaN</td>\n",
       "    </tr>\n",
       "  </tbody>\n",
       "</table>\n",
       "</div>"
      ],
      "text/plain": [
       "              sum_sq   df           F    PR(>F)\n",
       "Intercept  41.813333  1.0  113.349398  0.000040\n",
       "Group       2.926667  2.0    3.966867  0.079846\n",
       "Residual    2.213333  6.0         NaN       NaN"
      ]
     },
     "execution_count": 6,
     "metadata": {},
     "output_type": "execute_result"
    }
   ],
   "source": [
    "import pandas as pd\n",
    "import statsmodels.api as sm\n",
    "from statsmodels.formula.api import ols\n",
    "\n",
    "# Fit the model\n",
    "model = ols('Outcome ~ Group', data=df).fit()\n",
    "\n",
    "# Perform ANOVA\n",
    "anova_table = sm.stats.anova_lm(model, typ=3)  # Type I ANOVA\n",
    "anova_table"
   ]
  },
  {
   "cell_type": "markdown",
   "id": "7e265845-a40e-4494-87a0-2e42dbecf3fa",
   "metadata": {},
   "source": [
    "## $k$-way ANOVA\n",
    "\n",
    "Now suppose we have another covariate `Factor` that was measured, and we want to know:\n",
    "\n",
    "> Do samples in different `Group` and `Factor` have different `Outcome`s?"
   ]
  },
  {
   "cell_type": "code",
   "execution_count": 7,
   "id": "5f4d13a9-ffad-45cd-964a-e100222ca04d",
   "metadata": {},
   "outputs": [
    {
     "data": {
      "text/html": [
       "<div>\n",
       "<style scoped>\n",
       "    .dataframe tbody tr th:only-of-type {\n",
       "        vertical-align: middle;\n",
       "    }\n",
       "\n",
       "    .dataframe tbody tr th {\n",
       "        vertical-align: top;\n",
       "    }\n",
       "\n",
       "    .dataframe thead th {\n",
       "        text-align: right;\n",
       "    }\n",
       "</style>\n",
       "<table border=\"1\" class=\"dataframe\">\n",
       "  <thead>\n",
       "    <tr style=\"text-align: right;\">\n",
       "      <th></th>\n",
       "      <th>Outcome</th>\n",
       "      <th>Group</th>\n",
       "      <th>Factor</th>\n",
       "    </tr>\n",
       "  </thead>\n",
       "  <tbody>\n",
       "    <tr>\n",
       "      <th>0</th>\n",
       "      <td>3.6</td>\n",
       "      <td>A</td>\n",
       "      <td>X</td>\n",
       "    </tr>\n",
       "    <tr>\n",
       "      <th>1</th>\n",
       "      <td>3.5</td>\n",
       "      <td>A</td>\n",
       "      <td>X</td>\n",
       "    </tr>\n",
       "    <tr>\n",
       "      <th>2</th>\n",
       "      <td>4.2</td>\n",
       "      <td>B</td>\n",
       "      <td>Y</td>\n",
       "    </tr>\n",
       "    <tr>\n",
       "      <th>3</th>\n",
       "      <td>2.7</td>\n",
       "      <td>B</td>\n",
       "      <td>X</td>\n",
       "    </tr>\n",
       "    <tr>\n",
       "      <th>4</th>\n",
       "      <td>4.1</td>\n",
       "      <td>A</td>\n",
       "      <td>Y</td>\n",
       "    </tr>\n",
       "    <tr>\n",
       "      <th>5</th>\n",
       "      <td>5.2</td>\n",
       "      <td>C</td>\n",
       "      <td>Y</td>\n",
       "    </tr>\n",
       "    <tr>\n",
       "      <th>6</th>\n",
       "      <td>3.0</td>\n",
       "      <td>B</td>\n",
       "      <td>X</td>\n",
       "    </tr>\n",
       "    <tr>\n",
       "      <th>7</th>\n",
       "      <td>4.8</td>\n",
       "      <td>C</td>\n",
       "      <td>Y</td>\n",
       "    </tr>\n",
       "    <tr>\n",
       "      <th>8</th>\n",
       "      <td>4.0</td>\n",
       "      <td>C</td>\n",
       "      <td>X</td>\n",
       "    </tr>\n",
       "  </tbody>\n",
       "</table>\n",
       "</div>"
      ],
      "text/plain": [
       "   Outcome Group Factor\n",
       "0      3.6     A      X\n",
       "1      3.5     A      X\n",
       "2      4.2     B      Y\n",
       "3      2.7     B      X\n",
       "4      4.1     A      Y\n",
       "5      5.2     C      Y\n",
       "6      3.0     B      X\n",
       "7      4.8     C      Y\n",
       "8      4.0     C      X"
      ]
     },
     "execution_count": 7,
     "metadata": {},
     "output_type": "execute_result"
    }
   ],
   "source": [
    "df = pd.DataFrame({\n",
    "    'Outcome': [3.6, 3.5, 4.2, 2.7, 4.1, 5.2, 3.0, 4.8, 4.0],\n",
    "    'Group': pd.Categorical([\"A\", \"A\", \"B\", \"B\", \"A\", \"C\", \"B\", \"C\", \"C\"]), \n",
    "    'Factor': pd.Categorical([\"X\", \"X\", \"Y\", \"X\", \"Y\", \"Y\", \"X\", \"Y\", \"X\"])\n",
    "})\n",
    "df"
   ]
  },
  {
   "cell_type": "markdown",
   "id": "0caf570c-8356-4172-bd48-967520f3cec9",
   "metadata": {},
   "source": [
    "We previously saw that `Group` alone is not significant, using 1-way ANOVA. Lets additionally adjust for `Factor` and the interaction effect between `Group` and `Factor`."
   ]
  },
  {
   "cell_type": "code",
   "execution_count": 8,
   "id": "e0f72ed2-39c2-48ed-bbac-7201a4fa98d7",
   "metadata": {},
   "outputs": [
    {
     "name": "stderr",
     "output_type": "stream",
     "text": [
      "100%|████████████████████████████████████████████| 6/6 [00:00<00:00, 6572.43it/s]\n"
     ]
    }
   ],
   "source": [
    "formula = \"Outcome ~ Group + Factor + Group:Factor\"\n",
    "two_way = sw.ANOVA(df, formula)\n",
    "two_way.fit()"
   ]
  },
  {
   "cell_type": "markdown",
   "id": "788b6eab-be92-42f0-8023-832bffc6e2aa",
   "metadata": {},
   "source": [
    "Now, we can test for significance of `Group`, `Factor`, and their interaction using an F-test. For example,"
   ]
  },
  {
   "cell_type": "code",
   "execution_count": 9,
   "id": "d1ff985a-5073-448f-954c-66c5ba049f6a",
   "metadata": {},
   "outputs": [
    {
     "data": {
      "text/plain": [
       "(np.float64(11.561538461537321), np.float64(0.03891754069189004))"
      ]
     },
     "execution_count": 9,
     "metadata": {},
     "output_type": "execute_result"
    }
   ],
   "source": [
    "# test for Group variable\n",
    "f_stat, pval = two_way.f_test(\"Group\")\n",
    "f_stat, pval"
   ]
  },
  {
   "cell_type": "code",
   "execution_count": 10,
   "id": "e71eb7ca-7c95-45b1-8cdb-473f8181698c",
   "metadata": {},
   "outputs": [
    {
     "data": {
      "text/plain": [
       "(np.float64(2.474358974358741), np.float64(0.2318655632501541))"
      ]
     },
     "execution_count": 10,
     "metadata": {},
     "output_type": "execute_result"
    }
   ],
   "source": [
    "# test for interaction \n",
    "f_stat, pval = two_way.f_test(\"Group:Factor\")\n",
    "f_stat, pval"
   ]
  },
  {
   "cell_type": "markdown",
   "id": "0a600e95-0d58-4761-b3fe-3450ea66fbab",
   "metadata": {},
   "source": [
    "Note that in each of these tests, internally we are **NOT** refitting the reduced model - we simply *swept* out the (one-hot encoded) variable from the full model!"
   ]
  },
  {
   "cell_type": "markdown",
   "id": "1732c289-f6bf-47c7-97c8-fe1b8be93fa0",
   "metadata": {},
   "source": [
    "### Check answer is correct\n",
    "\n",
    "Again we can compare the answer is correct using `statsmodels` package:"
   ]
  },
  {
   "cell_type": "code",
   "execution_count": 11,
   "id": "52a7920c-08b9-4dd4-8ea8-5668976a34da",
   "metadata": {},
   "outputs": [
    {
     "name": "stdout",
     "output_type": "stream",
     "text": [
      "                 sum_sq   df           F    PR(>F)\n",
      "Intercept     25.205000  1.0  581.653846  0.000156\n",
      "Group          1.002000  2.0   11.561538  0.038918\n",
      "Factor         0.201667  1.0    4.653846  0.119883\n",
      "Group:Factor   0.214444  2.0    2.474359  0.231866\n",
      "Residual       0.130000  3.0         NaN       NaN\n"
     ]
    }
   ],
   "source": [
    "import statsmodels.api as sm\n",
    "from statsmodels.formula.api import ols\n",
    "\n",
    "# Fit the model\n",
    "model = ols('Outcome ~ Group + Factor + Group:Factor', data=df).fit()\n",
    "\n",
    "# Perform ANOVA\n",
    "anova_table = sm.stats.anova_lm(model, typ=3)  # Type III ANOVA (note: use type 2 if no interaction term)\n",
    "print(anova_table)"
   ]
  }
 ],
 "metadata": {
  "kernelspec": {
   "display_name": "Python 3 (ipykernel)",
   "language": "python",
   "name": "python3"
  },
  "language_info": {
   "codemirror_mode": {
    "name": "ipython",
    "version": 3
   },
   "file_extension": ".py",
   "mimetype": "text/x-python",
   "name": "python",
   "nbconvert_exporter": "python",
   "pygments_lexer": "ipython3",
   "version": "3.10.6"
  }
 },
 "nbformat": 4,
 "nbformat_minor": 5
}
