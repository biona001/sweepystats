{
 "cells": [
  {
   "cell_type": "markdown",
   "id": "7735b4c6-6d5b-4fad-99c2-864662722a43",
   "metadata": {},
   "source": [
    "# Stepwise regression\n",
    "\n",
    "A common problem encountered in regression analysis is the following:\n",
    "\n",
    "> Should I include the `k`th variable in regression? Is the improvement in fit statistically significant?\n",
    "\n",
    "The sweep operator is a beautiful tool for this kind of question, because **including/excluding a variable does not require re-fitting the entire model**. Instead, just *sweep* the variable in if you want to include its effect, and if it isn't good, *sweep* it out!"
   ]
  },
  {
   "cell_type": "markdown",
   "id": "19b9d24e-1c66-4360-931c-eeb26fb5b701",
   "metadata": {},
   "source": [
    "<div style=\"border: 1px solid red; padding: 10px; background-color: #ffe6e6; color: red;\">\n",
    "    <strong>Warning:</strong> stepwise regression is generally <strong>NOT</strong> a valid method for model selection, see this\n",
    "    <a href=\"https://stats.stackexchange.com/questions/20836/algorithms-for-automatic-model-selection/20856#20856\" target=\"_blank\" style=\"color: red; text-decoration: underline;\">\n",
    "        StackExchange post\n",
    "    </a> \n",
    "    for a detailed explanation. This functionality is implemented mainly to explore the properties of the sweep operator.\n",
    "</div>"
   ]
  },
  {
   "cell_type": "code",
   "execution_count": 1,
   "id": "dafbb557-087d-468a-b237-60746231f289",
   "metadata": {},
   "outputs": [],
   "source": [
    "import sweepystats as sw\n",
    "import numpy as np"
   ]
  },
  {
   "cell_type": "markdown",
   "id": "f21b95c3-b0c0-422e-aa02-00fd12fe9bb5",
   "metadata": {},
   "source": [
    "Lets simulate some data. I simulated $p=10$ covariates from\n",
    "\n",
    "$$\\mathbf{y} = \\mathbf{X}\\boldsymbol{\\beta} + N(0, \\mathbf{I})$$\n",
    "\n",
    "but only $k=3$ randomly chosen variables influence the response. "
   ]
  },
  {
   "cell_type": "code",
   "execution_count": 2,
   "id": "febf7426-ee7e-469d-8544-7adf537b6a50",
   "metadata": {},
   "outputs": [],
   "source": [
    "n, p, k = 20, 5, 3 # number of samples, covariates, causal covariates\n",
    "np.random.seed(2025) # for reproducibility\n",
    "X = np.random.normal(n, p, size=(n, p))\n",
    "beta = np.zeros(p)\n",
    "beta[np.random.choice(np.arange(p), size=k, replace=False)] = np.random.randn(k)\n",
    "y = X @ beta + np.random.normal()"
   ]
  },
  {
   "cell_type": "markdown",
   "id": "ec03546d-262a-4f1c-8667-df6d156504fe",
   "metadata": {},
   "source": [
    "Form an instance of `LinearRegression` class:"
   ]
  },
  {
   "cell_type": "code",
   "execution_count": 3,
   "id": "efb5fc7c-9eab-4512-9462-a7568eaca06b",
   "metadata": {},
   "outputs": [],
   "source": [
    "ols = sw.LinearRegression(X, y)"
   ]
  },
  {
   "cell_type": "markdown",
   "id": "c86997a7-659d-482d-a03e-b2e0bcffa7a6",
   "metadata": {},
   "source": [
    "### Including/excluding covariates corresponds to sweeping the variable in/out\n",
    "\n",
    "For example, lets \"sweep in\" the first variable."
   ]
  },
  {
   "cell_type": "code",
   "execution_count": 4,
   "id": "1e567497-0b4e-4c8b-9588-65e88406fb9b",
   "metadata": {},
   "outputs": [],
   "source": [
    "ols.include_k(0) # include the first variable in regression"
   ]
  },
  {
   "cell_type": "markdown",
   "id": "e3335c2c-4751-4d4c-81b1-0fc64336d2d4",
   "metadata": {},
   "source": [
    "After sweeping in the first variable, we can examine the sum-of-squares residuals:"
   ]
  },
  {
   "cell_type": "code",
   "execution_count": 5,
   "id": "e24be0af-4d00-4eed-9eca-a5d6e9cfa043",
   "metadata": {},
   "outputs": [
    {
     "data": {
      "text/plain": [
       "np.float64(4790.139117841711)"
      ]
     },
     "execution_count": 5,
     "metadata": {},
     "output_type": "execute_result"
    }
   ],
   "source": [
    "ols.resid()"
   ]
  },
  {
   "cell_type": "markdown",
   "id": "b8e785ff-5335-457f-b9dd-b1a660ff15f6",
   "metadata": {},
   "source": [
    "Lets try sweeping in variables one at a time (i.e. including more and more variables in multiple regression) and examine the resulting sum of squares residual $\\|\\mathbf{y} - \\hat{\\mathbf{y}}\\|^2$"
   ]
  },
  {
   "cell_type": "code",
   "execution_count": 6,
   "id": "92a7b969-7700-439a-8c34-9eec2c72f07d",
   "metadata": {},
   "outputs": [],
   "source": [
    "resids = [ols.resid()]\n",
    "for i in range(1, p):\n",
    "    ols.include_k(i) # sweep the ith variable in (include it in regression)\n",
    "    resids.append(ols.resid()) # save sum-of-square residual"
   ]
  },
  {
   "cell_type": "markdown",
   "id": "80a1a8cf-ff3f-413d-83a3-3e4052fb8612",
   "metadata": {},
   "source": [
    "We can visualize the residuals"
   ]
  },
  {
   "cell_type": "code",
   "execution_count": 7,
   "id": "9e6e4bd7-763f-4a6a-b79e-eeb20722ca1c",
   "metadata": {},
   "outputs": [
    {
     "data": {
      "image/png": "[encoded data removed]",
      "text/plain": [
       "<Figure size 640x480 with 1 Axes>"
      ]
     },
     "metadata": {},
     "output_type": "display_data"
    }
   ],
   "source": [
    "import matplotlib.pyplot as plt\n",
    "plt.scatter(range(p), resids, color='blue', label='Residuals')\n",
    "plt.axhline(0, color='red', linestyle='--', label='Zero Line')\n",
    "plt.xlabel('Variables included in regression')\n",
    "plt.ylabel('Residual Value')\n",
    "plt.title('Scatter Plot of Residuals')\n",
    "plt.legend()\n",
    "plt.show()"
   ]
  },
  {
   "cell_type": "markdown",
   "id": "4c7c9610-455d-4ca1-b385-cb1afceffee2",
   "metadata": {},
   "source": [
    "So it seems adding the 2nd and 4th variable improved model fit significantly (by reducing sum-of-squared residual). How do we statistically determine whether they are redundant? We can test the hypothesis $H_k = 0$ using an F-test:"
   ]
  },
  {
   "cell_type": "code",
   "execution_count": 12,
   "id": "d56cdb3e-01df-4713-95aa-9614ab97667b",
   "metadata": {},
   "outputs": [
    {
     "name": "stdout",
     "output_type": "stream",
     "text": [
      "Variable 0 has p-value 0.8129989461707008\n",
      "Variable 1 has p-value 3.209628882323652e-31\n",
      "Variable 2 has p-value 0.00937511174625582\n",
      "Variable 3 has p-value 6.452513415087515e-29\n",
      "Variable 4 has p-value 4.743393955410443e-25\n"
     ]
    }
   ],
   "source": [
    "# test whether kth variable is significant\n",
    "for k in range(p):\n",
    "    f_stat, pval = ols.f_test(k)\n",
    "    print(f\"Variable {k} has p-value {pval}\")"
   ]
  },
  {
   "cell_type": "markdown",
   "id": "c03efbb0-f221-4413-8755-74c7c0358e7b",
   "metadata": {},
   "source": [
    "So the 2nd, 4th, and 5th variable is significant. We can compare this against the true beta coefficient:"
   ]
  },
  {
   "cell_type": "code",
   "execution_count": 13,
   "id": "496e2445-9a5c-418a-b1cf-e7a4a81b3dda",
   "metadata": {},
   "outputs": [
    {
     "data": {
      "text/plain": [
       "array([ 0.        ,  1.72690962,  0.        ,  1.43543728, -0.64106051])"
      ]
     },
     "execution_count": 13,
     "metadata": {},
     "output_type": "execute_result"
    }
   ],
   "source": [
    "beta"
   ]
  },
  {
   "cell_type": "markdown",
   "id": "44ffef96-c0ca-44e9-af23-19cba5968044",
   "metadata": {},
   "source": [
    "So in this simple example, stepwise regression using F-test worked in identifying the correct model."
   ]
  }
 ],
 "metadata": {
  "kernelspec": {
   "display_name": "Python 3 (ipykernel)",
   "language": "python",
   "name": "python3"
  },
  "language_info": {
   "codemirror_mode": {
    "name": "ipython",
    "version": 3
   },
   "file_extension": ".py",
   "mimetype": "text/x-python",
   "name": "python",
   "nbconvert_exporter": "python",
   "pygments_lexer": "ipython3",
   "version": "3.10.6"
  }
 },
 "nbformat": 4,
 "nbformat_minor": 5
}
