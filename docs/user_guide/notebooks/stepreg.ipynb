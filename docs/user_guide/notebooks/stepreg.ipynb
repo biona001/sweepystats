{
 "cells": [
  {
   "cell_type": "markdown",
   "id": "7735b4c6-6d5b-4fad-99c2-864662722a43",
   "metadata": {},
   "source": [
    "# Stepwise regression\n",
    "\n",
    "A common problem encountered in regression analysis is the following:"
   ]
  },
  {
   "cell_type": "raw",
   "id": "63e9beb7-4005-4ed1-b889-7cb9e236aa21",
   "metadata": {},
   "source": [
    "<div class=\"admonition note\" name=\"html-admonition\" style=\"background: lightyellow; padding: 10px\">\n",
    "    <strong>Question:</strong> Should I include the <code>k</code>th variable in regression? Is the improvement in fit statistically significant?\n",
    "</div>"
   ]
  },
  {
   "cell_type": "markdown",
   "id": "3f5cf477-efeb-4051-9576-d6052b010d91",
   "metadata": {},
   "source": [
    "\n",
    "The sweep operator is a beautiful tool for this kind of question, because **including/excluding a variable does not require re-fitting the entire model**. Instead, just *sweep* the variable in if you want to include its effect, and if it isn't good, *sweep* it out!"
   ]
  },
  {
   "cell_type": "raw",
   "id": "a696c7d6-2102-42c2-9410-423f0e72164b",
   "metadata": {},
   "source": [
    "<div class=\"admonition note\" name=\"html-admonition\" style=\"background: tomato; padding: 10px\">\n",
    "    <strong>Warning:</strong> stepwise regression is generally <strong>NOT</strong> a valid method for model selection. This functionality is implemented mainly to explore the properties of the sweep operator.\n",
    "</div>"
   ]
  },
  {
   "cell_type": "code",
   "execution_count": 1,
   "id": "dafbb557-087d-468a-b237-60746231f289",
   "metadata": {},
   "outputs": [],
   "source": [
    "import sweepystats as sw\n",
    "import numpy as np"
   ]
  },
  {
   "cell_type": "markdown",
   "id": "f21b95c3-b0c0-422e-aa02-00fd12fe9bb5",
   "metadata": {},
   "source": [
    "Lets simulate some data. I simulated $p=10$ covariates from\n",
    "\n",
    "$$\\mathbf{y} = \\mathbf{X}\\boldsymbol{\\beta} + N(0, \\mathbf{I})$$\n",
    "\n",
    "but only $k=3$ randomly chosen variables influence the response. "
   ]
  },
  {
   "cell_type": "code",
   "execution_count": 2,
   "id": "febf7426-ee7e-469d-8544-7adf537b6a50",
   "metadata": {},
   "outputs": [],
   "source": [
    "n, p, k = 20, 5, 3 # number of samples, covariates, causal covariates\n",
    "np.random.seed(123) # for reproducibility\n",
    "X = np.random.normal(n, p, size=(n, p))\n",
    "beta = np.zeros(p)\n",
    "beta[np.random.choice(np.arange(p), size=k, replace=False)] = np.random.randn(k)\n",
    "y = X @ beta + np.random.normal()"
   ]
  },
  {
   "cell_type": "markdown",
   "id": "ec03546d-262a-4f1c-8667-df6d156504fe",
   "metadata": {},
   "source": [
    "Form an instance of `LinearRegression` class:"
   ]
  },
  {
   "cell_type": "code",
   "execution_count": 3,
   "id": "efb5fc7c-9eab-4512-9462-a7568eaca06b",
   "metadata": {},
   "outputs": [],
   "source": [
    "ols = sw.LinearRegression(X, y)"
   ]
  },
  {
   "cell_type": "markdown",
   "id": "c86997a7-659d-482d-a03e-b2e0bcffa7a6",
   "metadata": {},
   "source": [
    "### Including/excluding covariates corresponds to sweeping the variable in/out\n",
    "\n",
    "For example, lets \"sweep in\" the first variable."
   ]
  },
  {
   "cell_type": "code",
   "execution_count": 4,
   "id": "1e567497-0b4e-4c8b-9588-65e88406fb9b",
   "metadata": {},
   "outputs": [],
   "source": [
    "ols.include_k(0) # include the first variable in regression"
   ]
  },
  {
   "cell_type": "markdown",
   "id": "e3335c2c-4751-4d4c-81b1-0fc64336d2d4",
   "metadata": {},
   "source": [
    "After sweeping in the first variable, we can examine the sum-of-squares residuals:"
   ]
  },
  {
   "cell_type": "code",
   "execution_count": 5,
   "id": "e24be0af-4d00-4eed-9eca-a5d6e9cfa043",
   "metadata": {},
   "outputs": [
    {
     "data": {
      "text/plain": [
       "np.float64(1394.3565581860448)"
      ]
     },
     "execution_count": 5,
     "metadata": {},
     "output_type": "execute_result"
    }
   ],
   "source": [
    "ols.resid()"
   ]
  },
  {
   "cell_type": "markdown",
   "id": "b8e785ff-5335-457f-b9dd-b1a660ff15f6",
   "metadata": {},
   "source": [
    "Lets try sweeping in variables one at a time (i.e. including more and more variables in multiple regression) and examine the resulting sum of squares residual $\\|\\mathbf{y} - \\hat{\\mathbf{y}}\\|^2$"
   ]
  },
  {
   "cell_type": "code",
   "execution_count": 6,
   "id": "92a7b969-7700-439a-8c34-9eec2c72f07d",
   "metadata": {},
   "outputs": [],
   "source": [
    "resids = [ols.resid()]\n",
    "for i in range(1, p):\n",
    "    ols.include_k(i) # sweep the ith variable in (include it in regression)\n",
    "    resids.append(ols.resid()) # save sum-of-square residual"
   ]
  },
  {
   "cell_type": "markdown",
   "id": "80a1a8cf-ff3f-413d-83a3-3e4052fb8612",
   "metadata": {},
   "source": [
    "We can visualize the residuals"
   ]
  },
  {
   "cell_type": "code",
   "execution_count": 7,
   "id": "9e6e4bd7-763f-4a6a-b79e-eeb20722ca1c",
   "metadata": {},
   "outputs": [
    {
     "data": {
      "image/png": "[encoded data removed]",
      "text/plain": [
       "<Figure size 640x480 with 1 Axes>"
      ]
     },
     "metadata": {},
     "output_type": "display_data"
    }
   ],
   "source": [
    "import matplotlib.pyplot as plt\n",
    "plt.scatter(range(p), resids, color='blue', label='Residuals')\n",
    "plt.axhline(0, color='red', linestyle='--', label='Zero Line')\n",
    "plt.xlabel('Variables included in regression')\n",
    "plt.ylabel('Residual Value')\n",
    "plt.title('Scatter Plot of Residuals')\n",
    "plt.legend()\n",
    "plt.show()"
   ]
  },
  {
   "cell_type": "markdown",
   "id": "4c7c9610-455d-4ca1-b385-cb1afceffee2",
   "metadata": {},
   "source": [
    "So it seems adding the 2nd, 4th, and 5th variable improved model fit significantly (by reducing sum-of-squared residual). How do we statistically determine whether they are redundant? We can test the hypothesis $H_k = 0$ using an F-test:"
   ]
  },
  {
   "cell_type": "code",
   "execution_count": 8,
   "id": "d56cdb3e-01df-4713-95aa-9614ab97667b",
   "metadata": {},
   "outputs": [
    {
     "name": "stdout",
     "output_type": "stream",
     "text": [
      "Variable 0 has p-value 9.062122146792274e-24\n",
      "Variable 1 has p-value 0.4648260563197989\n",
      "Variable 2 has p-value 0.19236569475852966\n",
      "Variable 3 has p-value 1.5600761098077415e-16\n",
      "Variable 4 has p-value 7.343646064572416e-18\n"
     ]
    }
   ],
   "source": [
    "# test whether kth variable is significant\n",
    "for k in range(p):\n",
    "    f_stat, pval = ols.f_test(k)\n",
    "    print(f\"Variable {k} has p-value {pval}\")"
   ]
  },
  {
   "cell_type": "markdown",
   "id": "c03efbb0-f221-4413-8755-74c7c0358e7b",
   "metadata": {},
   "source": [
    "So the 1st, 4th, and 5th variable is significant. We can compare this against the true beta coefficient:"
   ]
  },
  {
   "cell_type": "code",
   "execution_count": 9,
   "id": "496e2445-9a5c-418a-b1cf-e7a4a81b3dda",
   "metadata": {},
   "outputs": [
    {
     "data": {
      "text/plain": [
       "array([-1.97788793,  0.        ,  0.        ,  0.64205469,  0.71226464])"
      ]
     },
     "execution_count": 9,
     "metadata": {},
     "output_type": "execute_result"
    }
   ],
   "source": [
    "beta"
   ]
  },
  {
   "cell_type": "markdown",
   "id": "44ffef96-c0ca-44e9-af23-19cba5968044",
   "metadata": {},
   "source": [
    "So in this simple example, stepwise regression using F-test worked in identifying the correct model, while visually examining the improvement in residual error was not completely correct! "
   ]
  }
 ],
 "metadata": {
  "kernelspec": {
   "display_name": "Python 3 (ipykernel)",
   "language": "python",
   "name": "python3"
  },
  "language_info": {
   "codemirror_mode": {
    "name": "ipython",
    "version": 3
   },
   "file_extension": ".py",
   "mimetype": "text/x-python",
   "name": "python",
   "nbconvert_exporter": "python",
   "pygments_lexer": "ipython3",
   "version": "3.10.6"
  }
 },
 "nbformat": 4,
 "nbformat_minor": 5
}
