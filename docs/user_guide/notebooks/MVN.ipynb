{
 "cells": [
  {
   "cell_type": "markdown",
   "id": "31b8b634-9953-49ce-b8c8-2e199a6ec64b",
   "metadata": {},
   "source": [
    "# Multivariate Gaussian Density\n",
    "\n",
    "A random vector $X \\in \\mathbb{R}^p$ with mean $\\mu$, covariance $\\Sigma$, and density\n",
    "\n",
    "$$2\\pi^{-\\frac{p}{2}}(\\det{\\Sigma})^{-\\frac{1}{2}}e^{-\\frac{1}{2}(x - \\mu)^\\top\\Sigma^{-1}(x - \\mu)}$$\n",
    "\n",
    "is said to follow a multivariate normal (Gaussian) distribution. To evaluate this density, one needs to compute:\n",
    "\n",
    "+ The (square root) determinant: $(\\det{\\Sigma})^{-\\frac{1}{2}}$\n",
    "+ The quadratic form $(x - \\mu)^\\top\\Sigma^{-1}(x - \\mu)$\n",
    "\n",
    "Without the sweep operator, both of these terms require special computational care. The sweep operator permits straightforward calculation of both terms when we construct\n",
    "\n",
    "$$\n",
    "\\begin{pmatrix}\n",
    "    \\Sigma & x - \\mu\\\\\n",
    "    x^\\top - \\mu^\\top & 0\n",
    "\\end{pmatrix}\n",
    "$$\n",
    "\n",
    "and sweep on the diagonal entries of $\\Sigma$. This operation will result in the following:\n",
    "\n",
    "$$\n",
    "\\begin{pmatrix}\n",
    "    -\\Sigma^{-1} & \\Sigma^{-1}(x - \\mu)\\\\\n",
    "    (x - \\mu)^t\\Sigma^{-1} & -(x - \\mu)^t\\Sigma^{-1}(x - \\mu)\n",
    "\\end{pmatrix}\n",
    "$$\n",
    "\n",
    "and in the process also accumulate $\\det(\\Sigma)$. Thus, we can evaluate the MVN density **in-place** without any additional allocation."
   ]
  },
  {
   "cell_type": "code",
   "execution_count": 1,
   "id": "2d6652af-6c45-4885-83ed-7044850c1697",
   "metadata": {},
   "outputs": [],
   "source": [
    "import sweepystats as sw\n",
    "import numpy as np\n",
    "from scipy.linalg import toeplitz"
   ]
  },
  {
   "cell_type": "markdown",
   "id": "ace066d9-6aec-481e-aef1-f4fe5eeb66ce",
   "metadata": {},
   "source": [
    "## Loglikelihood \n",
    "\n",
    "To evaluate the likelihood of $X = (X_1 = x_1,..., X_p = x_p)$, we initialize the `Normal` class and call the `loglikelihood` function."
   ]
  },
  {
   "cell_type": "code",
   "execution_count": 2,
   "id": "79b390d6-a930-476c-bb79-65b4c286ff19",
   "metadata": {},
   "outputs": [],
   "source": [
    "# instantiate a Normal\n",
    "p = 5\n",
    "mu = np.zeros(p)\n",
    "sigma = toeplitz(np.array([0.5**i for i in range(p)]))\n",
    "d = sw.Normal(mu, sigma)"
   ]
  },
  {
   "cell_type": "markdown",
   "id": "7cf400c8-d2e8-44bc-8431-290351473992",
   "metadata": {},
   "source": [
    "Here we simulated\n",
    "\n",
    "$$\n",
    "\\Sigma = \n",
    "\\begin{pmatrix}\n",
    "1 & \\rho & \\rho^2 & ... & \\rho^{p-1}\\\\\n",
    "\\rho & 1 & \\rho & ... & \\rho^{p-2}\\\\\n",
    "\\rho^2 & \\rho & 1 & ... & \\rho^{p-2}\\\\\n",
    "\\vdots & & & \\ddots & \\vdots\\\\\n",
    "\\rho^{p-1} & ... & & \\rho & 1\n",
    "\\end{pmatrix}\n",
    "$$\n",
    "\n",
    "with $\\rho = 0.5$. Now we can ask what is the likelihood that $X = (X_1 = x_1,..., X_p = x_p)$?"
   ]
  },
  {
   "cell_type": "code",
   "execution_count": 3,
   "id": "a9285fa9-40df-4b6e-85eb-2587739f4f3a",
   "metadata": {},
   "outputs": [
    {
     "name": "stderr",
     "output_type": "stream",
     "text": [
      "100%|███████████████████████████████████████████| 5/5 [00:00<00:00, 28610.53it/s]\n"
     ]
    },
    {
     "data": {
      "text/plain": [
       "np.float64(-7.372282461672331)"
      ]
     },
     "execution_count": 3,
     "metadata": {},
     "output_type": "execute_result"
    }
   ],
   "source": [
    "X = np.random.normal(size=p)\n",
    "d.loglikelihood(X)"
   ]
  },
  {
   "cell_type": "code",
   "execution_count": null,
   "id": "a767b4be-1e72-444c-8a26-d92d90ec087e",
   "metadata": {},
   "outputs": [],
   "source": [
    "Internally, we accumulated the determinant and the loglikelihood function "
   ]
  },
  {
   "cell_type": "code",
   "execution_count": 4,
   "id": "059a467f-4bfe-4a3e-a7c3-842eb8395c83",
   "metadata": {},
   "outputs": [
    {
     "data": {
      "text/plain": [
       "np.float64(-7.372282461672331)"
      ]
     },
     "execution_count": 4,
     "metadata": {},
     "output_type": "execute_result"
    }
   ],
   "source": [
    "# check answer with scipy\n",
    "from scipy.stats import multivariate_normal\n",
    "multivariate_normal.logpdf(X, mean=mu, cov=sigma)"
   ]
  },
  {
   "cell_type": "markdown",
   "id": "8caa5bb6-cb0f-406b-aaf4-0133632ec080",
   "metadata": {},
   "source": [
    "## Conditional distributions\n",
    "\n",
    "Let $X \\sim N(\\mu, \\Sigma)$. If $X = (Y, Z)$ and\n",
    "\n",
    "$$\n",
    "X = \\begin{pmatrix}\n",
    "    Y \\\\ Z\n",
    "\\end{pmatrix} \\sim \n",
    "N\\left(\n",
    "\\begin{pmatrix}\n",
    "    \\mu_Y\\\\ \\mu_Z\n",
    "\\end{pmatrix}, \n",
    "\\begin{pmatrix}\n",
    "    \\Sigma_Y & \\Sigma_{YZ}\\\\\n",
    "    \\Sigma_{ZY} & \\Sigma_{Z}\n",
    "\\end{pmatrix}\\right)\n",
    "$$\n",
    "\n",
    "then the following classical formulas hold\n",
    "\n",
    "$$E(Z | Y = y) = \\mu_Z + \\Sigma_{ZY}\\Sigma^{-1}_Y(y - \\mu_Y)$$\n",
    "$$Var(Z | Y = y) = \\Sigma_Z - \\Sigma_{ZY}\\Sigma^{-1}_Y\\Sigma_{YZ}.$$\n",
    "\n",
    "These quantities be easily computed via the sweep operation. Consider the matrix:\n",
    "\n",
    "$$\n",
    "\\begin{pmatrix}\n",
    "    \\Sigma_Y & \\Sigma_{YZ} & \\mu_Y - y\\\\\n",
    "    \\Sigma_{ZY} & \\Sigma_{Z} & \\mu_Z\\\\\n",
    "    \\mu_Y^\\top - y^\\top & \\mu_Z^t & 0\n",
    "\\end{pmatrix}.\n",
    "$$\n",
    "\n",
    "Sweeping on the diagonals of $\\Sigma_Y$ yields:\n",
    "\n",
    "$$\n",
    "\\begin{pmatrix}\n",
    "    -\\Sigma_Y^{-1} & \\Sigma_Y^{-1}\\Sigma_{YZ} & \\Sigma_Y^{-1}(\\mu_Y - y)\\\\\n",
    "    \\Sigma_{ZY}\\Sigma_Y^{-1} & \\Sigma_Z - \\Sigma_{ZY}\\Sigma_Y^{-1}\\Sigma_{YZ} & \\mu_Z + \\Sigma_{ZY}\\Sigma_Y^{-1}(y - \\mu_Y)\\\\\\\n",
    "    (\\mu_Y^\\top - y^\\top)\\Sigma_Y^{-1} & \\mu_Z^\\top - (y^\\top - \\mu_Y^\\top)\\Sigma_Y^{-1}\\Sigma_{YZ} & -(\\mu_Y - y^\\top)\\Sigma_Y^{-1}(\\mu_Y - y)\n",
    "\\end{pmatrix}.\n",
    "$$\n",
    "\n",
    "Thus, the conditional expection and variance becomes immediately available, **again without needing to allocate anything new.**"
   ]
  },
  {
   "cell_type": "markdown",
   "id": "3ca600d4-5180-4e09-bafd-3041046e467e",
   "metadata": {},
   "source": [
    "### Conditional expectations\n",
    "\n",
    "We wish to evaluate \n",
    "\n",
    "$$E(Z | Y = y) = \\mu_Z + \\Sigma_{ZY}\\Sigma^{-1}_Y(y - \\mu_Y)$$"
   ]
  },
  {
   "cell_type": "code",
   "execution_count": 23,
   "id": "0baacef5-8efe-4192-8dde-d5065c23ab52",
   "metadata": {},
   "outputs": [],
   "source": [
    "# instantiate a Normal\n",
    "p = 6\n",
    "mu = np.zeros(p)\n",
    "sigma = toeplitz(np.array([0.5**i for i in range(p)]))\n",
    "d = sw.Normal(mu, sigma)"
   ]
  },
  {
   "cell_type": "markdown",
   "id": "75052f8c-a295-4ef0-84ff-c60378ec46f9",
   "metadata": {},
   "source": [
    "Suppose $p=4$ and we condition on the first 2 elements. What is the conditional mean for the remaining 2 elements?"
   ]
  },
  {
   "cell_type": "code",
   "execution_count": 24,
   "id": "aaaa2ece-9e62-4c14-bfdd-e8d8f59c7362",
   "metadata": {},
   "outputs": [
    {
     "data": {
      "text/plain": [
       "array([0.66050197, 0.33025098, 0.16512549, 0.08256275])"
      ]
     },
     "execution_count": 24,
     "metadata": {},
     "output_type": "execute_result"
    }
   ],
   "source": [
    "y = np.random.normal(2, size=(2,))\n",
    "yidx = [0, 1]\n",
    "d.cond_mean(y, yidx)"
   ]
  },
  {
   "cell_type": "code",
   "execution_count": 25,
   "id": "f8b71b52-0658-4d8a-ba51-956dc630e134",
   "metadata": {},
   "outputs": [
    {
     "data": {
      "text/plain": [
       "array([0.66050197, 0.33025098, 0.16512549, 0.08256275])"
      ]
     },
     "execution_count": 25,
     "metadata": {},
     "output_type": "execute_result"
    }
   ],
   "source": [
    "# check answers with brute-force implementation\n",
    "mu_Y, mu_Z = np.zeros(2), np.zeros(p - len(yidx))\n",
    "sigma_Y = sigma[0:2, 0:2]\n",
    "sigma_Z = sigma[2:, 2:]\n",
    "sigma_ZY = sigma[2:, 0:2]\n",
    "mu_Z + sigma_ZY @ np.linalg.inv(sigma_Y) @ (y - mu_Y)"
   ]
  },
  {
   "cell_type": "raw",
   "id": "9ec4eeca-62e5-4883-888e-06b4793f6251",
   "metadata": {},
   "source": [
    "<div class=\"admonition note\" name=\"html-admonition\" style=\"background: lightgreen; padding: 10px\">\n",
    "    <strong>Tip:</strong> <code>yidx</code> does NOT have to be contiguous!\n",
    "</div>"
   ]
  },
  {
   "cell_type": "code",
   "execution_count": 38,
   "id": "cce4b4cb-ad5f-4a5b-984a-45c2e57e6b8e",
   "metadata": {},
   "outputs": [
    {
     "data": {
      "text/plain": [
       "array([1.72322558, 1.95738227, 1.58511505, 0.79255753])"
      ]
     },
     "execution_count": 38,
     "metadata": {},
     "output_type": "execute_result"
    }
   ],
   "source": [
    "p = 6\n",
    "y = np.random.normal(2, size=(2,))\n",
    "yidx = [0, 3]\n",
    "d.cond_mean(y, yidx)"
   ]
  },
  {
   "cell_type": "code",
   "execution_count": 39,
   "id": "30367573-3df0-4291-89bb-8be0f33a1845",
   "metadata": {},
   "outputs": [
    {
     "data": {
      "text/plain": [
       "array([1.72322558, 1.95738227, 1.58511505, 0.79255753])"
      ]
     },
     "execution_count": 39,
     "metadata": {},
     "output_type": "execute_result"
    }
   ],
   "source": [
    "# check answers with brute-force implementation\n",
    "zidx = [1, 2, 4, 5]\n",
    "mu_Y, mu_Z = np.zeros(2), np.zeros(p - len(yidx))\n",
    "sigma_Y = sigma[np.ix_(yidx, yidx)]\n",
    "sigma_Z = sigma[np.ix_(zidx, zidx)]\n",
    "sigma_ZY = sigma[np.ix_(zidx, yidx)]\n",
    "mu_Z + sigma_ZY @ np.linalg.inv(sigma_Y) @ (y - mu_Y)"
   ]
  },
  {
   "cell_type": "markdown",
   "id": "20cd1611-7e41-4832-9482-c167ddf413cb",
   "metadata": {},
   "source": [
    "### Conditional Variance\n",
    "\n",
    "We wish to evaluate\n",
    "\n",
    "$$Var(Z | Y = y) = \\Sigma_Z - \\Sigma_{ZY}\\Sigma^{-1}_Y\\Sigma_{YZ}.$$"
   ]
  },
  {
   "cell_type": "code",
   "execution_count": 46,
   "id": "aa6c3f44-dc76-4b6b-ba58-294f4680a209",
   "metadata": {},
   "outputs": [],
   "source": [
    "# instantiate a Normal\n",
    "p = 6\n",
    "mu = np.zeros(p)\n",
    "sigma = toeplitz(np.array([0.5**i for i in range(p)]))\n",
    "d = sw.Normal(mu, sigma)"
   ]
  },
  {
   "cell_type": "markdown",
   "id": "4cddceac-fc83-480c-8c2d-9aec7748253d",
   "metadata": {},
   "source": [
    "To compute conditional variance:"
   ]
  },
  {
   "cell_type": "code",
   "execution_count": 47,
   "id": "582a6185-4ab1-4ce5-8391-7dd30e04e991",
   "metadata": {},
   "outputs": [
    {
     "data": {
      "text/plain": [
       "array([[0.6     , 0.      , 0.      , 0.      ],\n",
       "       [0.      , 0.75    , 0.375   , 0.1875  ],\n",
       "       [0.      , 0.375   , 0.9375  , 0.46875 ],\n",
       "       [0.      , 0.1875  , 0.46875 , 0.984375]])"
      ]
     },
     "execution_count": 47,
     "metadata": {},
     "output_type": "execute_result"
    }
   ],
   "source": [
    "y = np.random.normal(2, size=(2,))\n",
    "yidx = [0, 2]\n",
    "d.cond_var(y, yidx)"
   ]
  },
  {
   "cell_type": "code",
   "execution_count": 48,
   "id": "fa284238-01d5-467a-b86e-f7012717851d",
   "metadata": {},
   "outputs": [
    {
     "data": {
      "text/plain": [
       "array([[0.6     , 0.      , 0.      , 0.      ],\n",
       "       [0.      , 0.75    , 0.375   , 0.1875  ],\n",
       "       [0.      , 0.375   , 0.9375  , 0.46875 ],\n",
       "       [0.      , 0.1875  , 0.46875 , 0.984375]])"
      ]
     },
     "execution_count": 48,
     "metadata": {},
     "output_type": "execute_result"
    }
   ],
   "source": [
    "# check answers with brute-force implementation\n",
    "zidx = [1, 3, 4, 5]\n",
    "sigma_Y = sigma[np.ix_(yidx, yidx)]\n",
    "sigma_Z = sigma[np.ix_(zidx, zidx)]\n",
    "sigma_ZY = sigma[np.ix_(zidx, yidx)]\n",
    "sigma_YZ = sigma[np.ix_(yidx, zidx)]\n",
    "sigma_Z - sigma_ZY @ np.linalg.inv(sigma_Y) @ sigma_YZ"
   ]
  },
  {
   "cell_type": "markdown",
   "id": "18c4bb70-4657-484b-ac63-7e76f15ea3f4",
   "metadata": {},
   "source": [
    "Of course, for conditional variance computation, the vector `zidx` need not be contiguous as well."
   ]
  }
 ],
 "metadata": {
  "kernelspec": {
   "display_name": "Python 3 (ipykernel)",
   "language": "python",
   "name": "python3"
  },
  "language_info": {
   "codemirror_mode": {
    "name": "ipython",
    "version": 3
   },
   "file_extension": ".py",
   "mimetype": "text/x-python",
   "name": "python",
   "nbconvert_exporter": "python",
   "pygments_lexer": "ipython3",
   "version": "3.10.6"
  }
 },
 "nbformat": 4,
 "nbformat_minor": 5
}
