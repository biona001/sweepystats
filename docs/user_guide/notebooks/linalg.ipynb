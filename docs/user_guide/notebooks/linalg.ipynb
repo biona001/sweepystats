{
 "cells": [
  {
   "cell_type": "markdown",
   "id": "5438baec-65a6-4bff-96cd-208aa9c3d28d",
   "metadata": {},
   "source": [
    "# Numerical linear algebra\n",
    "\n",
    "The following operations are supported **in-place** and **allocation-free**\n",
    "+ Matrix inversion in $n^3$ flops. Recall that inversion by Cholesky costs $(5/3)n^3$ flops and needs to allocate a matrix of same size.\n",
    "+ Computation of determinant\n",
    "+ Check (strict) positive definiteness"
   ]
  },
  {
   "cell_type": "code",
   "execution_count": 1,
   "id": "0441e58e-cd80-4c7c-820c-7d66b372e3f9",
   "metadata": {},
   "outputs": [],
   "source": [
    "import sweepystats as sw\n",
    "import numpy as np\n",
    "\n",
    "def random_symmetric_matrix(n, eigmin=float('-inf')):\n",
    "    \"\"\"\n",
    "    Simulates an column-major double-precision\n",
    "    n*n symmetric matrix with minimum eigenvalue `eigmin`\n",
    "    \"\"\"\n",
    "    A = np.random.rand(n, n)\n",
    "    A = 0.5 * (A + A.T)\n",
    "    # force eigenvalues to be >= eigmin\n",
    "    if eigmin > float('-inf'):\n",
    "        eval, evec = np.linalg.eig(A)\n",
    "        eval[np.where(eval < 0)[0]] = eigmin\n",
    "        A = evec * np.diag(eval) * evec.T\n",
    "    # convert to column major\n",
    "    return np.array(A, order='F')"
   ]
  },
  {
   "cell_type": "markdown",
   "id": "7a2d295f-60dc-4fee-bc3c-503f472368e1",
   "metadata": {},
   "source": [
    "Matrix inverse:"
   ]
  },
  {
   "cell_type": "code",
   "execution_count": 2,
   "id": "ca6ba069-4dc2-46b1-ba1a-8d12bc322c8c",
   "metadata": {},
   "outputs": [
    {
     "name": "stderr",
     "output_type": "stream",
     "text": [
      "100%|████████████████████████████████████████████| 100/100 [00:00<00:00, 12265.48it/s]\n"
     ]
    },
    {
     "data": {
      "text/plain": [
       "True"
      ]
     },
     "execution_count": 2,
     "metadata": {},
     "output_type": "execute_result"
    }
   ],
   "source": [
    "# A.sweep() converts A.A into -inv(A.A)\n",
    "data = random_symmetric_matrix(100)\n",
    "Ainv = np.linalg.inv(data)\n",
    "A = sw.SweepMatrix(data)\n",
    "A.sweep()\n",
    "np.allclose(A.A, -Ainv) # check answer is correct"
   ]
  },
  {
   "cell_type": "markdown",
   "id": "58ff9d4d-3c4b-4adb-8bf4-aa2f444743f4",
   "metadata": {},
   "source": [
    "Determinants:"
   ]
  },
  {
   "cell_type": "code",
   "execution_count": 3,
   "id": "5ef8d3e0-749c-4015-9dbb-f1f4f49fba61",
   "metadata": {},
   "outputs": [
    {
     "name": "stderr",
     "output_type": "stream",
     "text": [
      "100%|███████████████████████████████████████████| 100/100 [00:00<00:00, 145383.15it/s]\n",
      "100%|███████████████████████████████████████████| 100/100 [00:00<00:00, 131277.12it/s]\n"
     ]
    },
    {
     "data": {
      "text/plain": [
       "True"
      ]
     },
     "execution_count": 3,
     "metadata": {},
     "output_type": "execute_result"
    }
   ],
   "source": [
    "# Determinants is computed by A.det(). Original matrix is untouched by default. \n",
    "data = random_symmetric_matrix(100)\n",
    "Adet = np.linalg.det(data)\n",
    "A = sw.SweepMatrix(data)\n",
    "np.allclose(A.det(restore=True), Adet) # check answer is correct"
   ]
  },
  {
   "cell_type": "markdown",
   "id": "75a11b86-fcc5-4310-83df-e684543e2395",
   "metadata": {},
   "source": [
    "Check positive definiteness:"
   ]
  },
  {
   "cell_type": "code",
   "execution_count": 4,
   "id": "880dcfff-58d2-4631-91df-ad5ba4cd6dad",
   "metadata": {},
   "outputs": [
    {
     "data": {
      "text/plain": [
       "True"
      ]
     },
     "execution_count": 4,
     "metadata": {},
     "output_type": "execute_result"
    }
   ],
   "source": [
    "A = sw.SweepMatrix(random_symmetric_matrix(100, eigmin=0.0001)) # this is PD\n",
    "A.isposdef(verbose=False)"
   ]
  },
  {
   "cell_type": "code",
   "execution_count": 5,
   "id": "b3a668f3-57e3-49aa-b5d8-7c9daa407883",
   "metadata": {},
   "outputs": [
    {
     "data": {
      "text/plain": [
       "False"
      ]
     },
     "execution_count": 5,
     "metadata": {},
     "output_type": "execute_result"
    }
   ],
   "source": [
    "A = sw.SweepMatrix(random_symmetric_matrix(100, eigmin=-10)) # this has negative eigenvalues, should return false\n",
    "A.isposdef(verbose=False)"
   ]
  },
  {
   "cell_type": "code",
   "execution_count": 6,
   "id": "c4be6181-7f02-452a-b984-8baf7037c208",
   "metadata": {},
   "outputs": [
    {
     "data": {
      "text/plain": [
       "False"
      ]
     },
     "execution_count": 6,
     "metadata": {},
     "output_type": "execute_result"
    }
   ],
   "source": [
    "A = sw.SweepMatrix(random_symmetric_matrix(100, eigmin=0.0)) # this is PSD, should return false\n",
    "A.isposdef(verbose=False)"
   ]
  }
 ],
 "metadata": {
  "kernelspec": {
   "display_name": "Python 3 (ipykernel)",
   "language": "python",
   "name": "python3"
  },
  "language_info": {
   "codemirror_mode": {
    "name": "ipython",
    "version": 3
   },
   "file_extension": ".py",
   "mimetype": "text/x-python",
   "name": "python",
   "nbconvert_exporter": "python",
   "pygments_lexer": "ipython3",
   "version": "3.10.6"
  }
 },
 "nbformat": 4,
 "nbformat_minor": 5
}
