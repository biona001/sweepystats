{
 "cells": [
  {
   "cell_type": "markdown",
   "id": "31b8b634-9953-49ce-b8c8-2e199a6ec64b",
   "metadata": {},
   "source": [
    "# $k$-way ANOVA"
   ]
  },
  {
   "cell_type": "code",
   "execution_count": 1,
   "id": "2d6652af-6c45-4885-83ed-7044850c1697",
   "metadata": {},
   "outputs": [],
   "source": [
    "import sweepystats as sw\n",
    "import numpy as np\n",
    "import pandas as pd"
   ]
  },
  {
   "cell_type": "markdown",
   "id": "5d9c79fc-74d2-4f28-9c73-9252d98b8394",
   "metadata": {},
   "source": [
    "Continuing on our 1-way ANOVA example, now suppose we have another covariate `Factor` that was measured, and we want to know:\n",
    "\n",
    "> Do samples in different `Group` and `Factor` have different `Outcome`s?"
   ]
  },
  {
   "cell_type": "code",
   "execution_count": 2,
   "id": "5d91bfb9-8116-4758-81c9-b52553499ba1",
   "metadata": {},
   "outputs": [
    {
     "data": {
      "text/html": [
       "<div>\n",
       "<style scoped>\n",
       "    .dataframe tbody tr th:only-of-type {\n",
       "        vertical-align: middle;\n",
       "    }\n",
       "\n",
       "    .dataframe tbody tr th {\n",
       "        vertical-align: top;\n",
       "    }\n",
       "\n",
       "    .dataframe thead th {\n",
       "        text-align: right;\n",
       "    }\n",
       "</style>\n",
       "<table border=\"1\" class=\"dataframe\">\n",
       "  <thead>\n",
       "    <tr style=\"text-align: right;\">\n",
       "      <th></th>\n",
       "      <th>Outcome</th>\n",
       "      <th>Group</th>\n",
       "      <th>Factor</th>\n",
       "    </tr>\n",
       "  </thead>\n",
       "  <tbody>\n",
       "    <tr>\n",
       "      <th>0</th>\n",
       "      <td>3.6</td>\n",
       "      <td>A</td>\n",
       "      <td>X</td>\n",
       "    </tr>\n",
       "    <tr>\n",
       "      <th>1</th>\n",
       "      <td>3.5</td>\n",
       "      <td>A</td>\n",
       "      <td>X</td>\n",
       "    </tr>\n",
       "    <tr>\n",
       "      <th>2</th>\n",
       "      <td>4.2</td>\n",
       "      <td>B</td>\n",
       "      <td>Y</td>\n",
       "    </tr>\n",
       "    <tr>\n",
       "      <th>3</th>\n",
       "      <td>2.7</td>\n",
       "      <td>B</td>\n",
       "      <td>X</td>\n",
       "    </tr>\n",
       "    <tr>\n",
       "      <th>4</th>\n",
       "      <td>4.1</td>\n",
       "      <td>A</td>\n",
       "      <td>Y</td>\n",
       "    </tr>\n",
       "    <tr>\n",
       "      <th>5</th>\n",
       "      <td>5.2</td>\n",
       "      <td>C</td>\n",
       "      <td>Y</td>\n",
       "    </tr>\n",
       "    <tr>\n",
       "      <th>6</th>\n",
       "      <td>3.0</td>\n",
       "      <td>B</td>\n",
       "      <td>X</td>\n",
       "    </tr>\n",
       "    <tr>\n",
       "      <th>7</th>\n",
       "      <td>4.8</td>\n",
       "      <td>C</td>\n",
       "      <td>Y</td>\n",
       "    </tr>\n",
       "    <tr>\n",
       "      <th>8</th>\n",
       "      <td>4.0</td>\n",
       "      <td>C</td>\n",
       "      <td>X</td>\n",
       "    </tr>\n",
       "  </tbody>\n",
       "</table>\n",
       "</div>"
      ],
      "text/plain": [
       "   Outcome Group Factor\n",
       "0      3.6     A      X\n",
       "1      3.5     A      X\n",
       "2      4.2     B      Y\n",
       "3      2.7     B      X\n",
       "4      4.1     A      Y\n",
       "5      5.2     C      Y\n",
       "6      3.0     B      X\n",
       "7      4.8     C      Y\n",
       "8      4.0     C      X"
      ]
     },
     "execution_count": 2,
     "metadata": {},
     "output_type": "execute_result"
    }
   ],
   "source": [
    "df = pd.DataFrame({\n",
    "    'Outcome': [3.6, 3.5, 4.2, 2.7, 4.1, 5.2, 3.0, 4.8, 4.0],\n",
    "    'Group': pd.Categorical([\"A\", \"A\", \"B\", \"B\", \"A\", \"C\", \"B\", \"C\", \"C\"]), \n",
    "    'Factor': pd.Categorical([\"X\", \"X\", \"Y\", \"X\", \"Y\", \"Y\", \"X\", \"Y\", \"X\"])\n",
    "})\n",
    "df"
   ]
  },
  {
   "cell_type": "markdown",
   "id": "08fd5b1f-0b48-46d9-a9b3-938c9bdf027f",
   "metadata": {},
   "source": [
    "We previously saw that `Group` alone is not significant, using 1-way ANOVA. Lets additionally adjust for `Factor` and the interaction effect between `Group` and `Factor`."
   ]
  },
  {
   "cell_type": "code",
   "execution_count": 3,
   "id": "784b0e39-3f19-44dd-af61-23b6fdcfd6ec",
   "metadata": {},
   "outputs": [
    {
     "name": "stderr",
     "output_type": "stream",
     "text": [
      "100%|███████████████████████████████████████████| 6/6 [00:00<00:00, 12627.11it/s]\n"
     ]
    }
   ],
   "source": [
    "formula = \"Outcome ~ Group + Factor + Group:Factor\"\n",
    "two_way = sw.ANOVA(df, formula)\n",
    "two_way.fit()"
   ]
  },
  {
   "cell_type": "markdown",
   "id": "5ab7a2aa-6d8e-4154-a848-87ea2c87d858",
   "metadata": {},
   "source": [
    "Now, we can test for significance of `Group`, `Factor`, and their interaction using an F-test"
   ]
  },
  {
   "cell_type": "code",
   "execution_count": 4,
   "id": "3906a6de-e6b6-4bbe-8b4f-027c9c347464",
   "metadata": {},
   "outputs": [
    {
     "data": {
      "text/plain": [
       "(np.float64(581.653846153789), np.float64(0.00015624006011285467))"
      ]
     },
     "execution_count": 4,
     "metadata": {},
     "output_type": "execute_result"
    }
   ],
   "source": [
    "f_stat, pval = two_way.f_test(\"Intercept\")\n",
    "f_stat, pval"
   ]
  },
  {
   "cell_type": "code",
   "execution_count": 5,
   "id": "837f631a-63f7-4657-9e68-314ae50e2067",
   "metadata": {},
   "outputs": [
    {
     "data": {
      "text/plain": [
       "(np.float64(11.561538461537285), np.float64(0.0389175406918902))"
      ]
     },
     "execution_count": 5,
     "metadata": {},
     "output_type": "execute_result"
    }
   ],
   "source": [
    "f_stat, pval = two_way.f_test(\"Group\")\n",
    "f_stat, pval"
   ]
  },
  {
   "cell_type": "code",
   "execution_count": 6,
   "id": "cef745d8-db95-488e-97b4-36e12f96e5aa",
   "metadata": {},
   "outputs": [
    {
     "data": {
      "text/plain": [
       "(np.float64(4.65384615384568), np.float64(0.11988267006105519))"
      ]
     },
     "execution_count": 6,
     "metadata": {},
     "output_type": "execute_result"
    }
   ],
   "source": [
    "f_stat, pval = two_way.f_test(\"Factor\")\n",
    "f_stat, pval"
   ]
  },
  {
   "cell_type": "code",
   "execution_count": 7,
   "id": "e2c4237b-7f51-4da1-9c14-c5d370b02c01",
   "metadata": {},
   "outputs": [
    {
     "data": {
      "text/plain": [
       "(np.float64(2.4743589743587298), np.float64(0.23186556325015506))"
      ]
     },
     "execution_count": 7,
     "metadata": {},
     "output_type": "execute_result"
    }
   ],
   "source": [
    "f_stat, pval = two_way.f_test(\"Group:Factor\")\n",
    "f_stat, pval"
   ]
  },
  {
   "cell_type": "markdown",
   "id": "db757755-3123-427b-8cc2-9fecc7dad4e5",
   "metadata": {},
   "source": [
    "Note that when testing `Group` variable, internally we are **NOT** refitting the reduced model - we simply *swept* out the (one-hot encoded) variable from the full model!"
   ]
  },
  {
   "cell_type": "markdown",
   "id": "92f73141-08c9-4591-9793-644ab228ea23",
   "metadata": {},
   "source": [
    "## Check answer is correct\n",
    "\n",
    "We can compare the answer is correct using `statsmodels` package:"
   ]
  },
  {
   "cell_type": "code",
   "execution_count": 27,
   "id": "ffa378a9-ae11-4a0b-a4f9-d4a72ca72d9a",
   "metadata": {},
   "outputs": [
    {
     "name": "stdout",
     "output_type": "stream",
     "text": [
      "                 sum_sq   df           F    PR(>F)\n",
      "Intercept     25.205000  1.0  581.653846  0.000156\n",
      "Group          1.002000  2.0   11.561538  0.038918\n",
      "Factor         0.201667  1.0    4.653846  0.119883\n",
      "Group:Factor   0.214444  2.0    2.474359  0.231866\n",
      "Residual       0.130000  3.0         NaN       NaN\n"
     ]
    }
   ],
   "source": [
    "import statsmodels.api as sm\n",
    "from statsmodels.formula.api import ols\n",
    "\n",
    "# Fit the model\n",
    "model = ols('Outcome ~ Group + Factor + Group:Factor', data=df).fit()\n",
    "\n",
    "# Perform ANOVA\n",
    "anova_table = sm.stats.anova_lm(model, typ=3)  # Type III ANOVA (note: use type 2 if no interaction term)\n",
    "print(anova_table)"
   ]
  }
 ],
 "metadata": {
  "kernelspec": {
   "display_name": "Python 3 (ipykernel)",
   "language": "python",
   "name": "python3"
  },
  "language_info": {
   "codemirror_mode": {
    "name": "ipython",
    "version": 3
   },
   "file_extension": ".py",
   "mimetype": "text/x-python",
   "name": "python",
   "nbconvert_exporter": "python",
   "pygments_lexer": "ipython3",
   "version": "3.10.6"
  }
 },
 "nbformat": 4,
 "nbformat_minor": 5
}
