{
 "cells": [
  {
   "cell_type": "markdown",
   "id": "0ad30cf6-a99f-4f99-ba40-0df722cc0a07",
   "metadata": {},
   "source": [
    "# Getting started"
   ]
  },
  {
   "cell_type": "code",
   "execution_count": 1,
   "id": "e5ff51c5-65af-427b-9e1c-ee26eadfdc1e",
   "metadata": {},
   "outputs": [],
   "source": [
    "import sweepystats as sw\n",
    "import numpy as np"
   ]
  },
  {
   "cell_type": "markdown",
   "id": "8f442e38-3232-4737-85b5-deddb8934844",
   "metadata": {},
   "source": [
    "## The `SweepMatrix` class\n",
    "\n",
    "`SweepMatrix` is a thin wrapper over numpy `darray`s. The input must be a symmetric matrix. We convert all matrices into double-precision numpy arrays with column-major order. **No data is copied** if the input is already in this format. The latter requirement is because the sweeping operation is blessed by level-3 BLAS, which we call internally. "
   ]
  },
  {
   "cell_type": "code",
   "execution_count": 2,
   "id": "403b4669-e187-4329-8e60-c3db093f9523",
   "metadata": {},
   "outputs": [
    {
     "data": {
      "text/plain": [
       "SweepMatrix(array([[1., 2., 3.],\n",
       "       [2., 5., 6.],\n",
       "       [3., 6., 9.]]))"
      ]
     },
     "execution_count": 2,
     "metadata": {},
     "output_type": "execute_result"
    }
   ],
   "source": [
    "# intantiate a SweepMatrix from symmetric input\n",
    "A_numpy = np.array([[1., 2, 3],\n",
    "                    [2, 5, 6],\n",
    "                    [3, 6, 9]], order='F') # order = 'F' implies data is stored in column-major format\n",
    "A = sw.SweepMatrix(A_numpy)\n",
    "A"
   ]
  },
  {
   "cell_type": "code",
   "execution_count": 3,
   "id": "8da6f9e7-4ec3-4f2c-84c2-bd0ba176b884",
   "metadata": {},
   "outputs": [
    {
     "data": {
      "text/plain": [
       "array([[10.,  2.,  3.],\n",
       "       [ 2.,  5.,  6.],\n",
       "       [ 3.,  6.,  9.]])"
      ]
     },
     "execution_count": 3,
     "metadata": {},
     "output_type": "execute_result"
    }
   ],
   "source": [
    "# modifying entries of A also changes the original\n",
    "A[0, 0] = 10\n",
    "A_numpy"
   ]
  },
  {
   "cell_type": "markdown",
   "id": "f39ef14c-ae31-4fcd-824f-f6331c70ed27",
   "metadata": {},
   "source": [
    "A `SweepMatrix` can be swept forward and backwards:"
   ]
  },
  {
   "cell_type": "code",
   "execution_count": 4,
   "id": "4fd818e0-03d6-4285-9b66-087b75b83011",
   "metadata": {},
   "outputs": [
    {
     "data": {
      "text/plain": [
       "SweepMatrix(array([[-1.11111111e-01, -4.85722573e-17,  3.70370370e-02],\n",
       "       [-4.85722573e-17, -1.00000000e+00,  6.66666667e-01],\n",
       "       [ 3.70370370e-02,  6.66666667e-01, -5.67901235e-01]]))"
      ]
     },
     "execution_count": 4,
     "metadata": {},
     "output_type": "execute_result"
    }
   ],
   "source": [
    "A.sweep(verbose=False) # forward sweep through all diagonal entries of A\n",
    "A"
   ]
  },
  {
   "cell_type": "code",
   "execution_count": 5,
   "id": "aef08fa9-4ec5-4fd7-bd30-967395f02d9e",
   "metadata": {},
   "outputs": [
    {
     "data": {
      "text/plain": [
       "SweepMatrix(array([[10.,  2.,  3.],\n",
       "       [ 2.,  5.,  6.],\n",
       "       [ 3.,  6.,  9.]]))"
      ]
     },
     "execution_count": 5,
     "metadata": {},
     "output_type": "execute_result"
    }
   ],
   "source": [
    "A.sweep(inv=True, verbose=False) # inverse sweep recovers the original data\n",
    "A"
   ]
  },
  {
   "cell_type": "markdown",
   "id": "20616218-49df-496c-9e96-2e8666a29fd4",
   "metadata": {},
   "source": [
    "<div class=\"alert alert-block alert-info\"> <b>NOTE:</b> Because the sweep operation divides the k-th row/column of A by Akk, the diagonal entry **cannot be 0** (exactly or numerically) before it is swept! </div>"
   ]
  },
  {
   "cell_type": "markdown",
   "id": "3e1b96aa-31fa-473e-a237-afa1d10e00d3",
   "metadata": {},
   "source": [
    "We can also sweep a on the `k`th diagonal element"
   ]
  },
  {
   "cell_type": "code",
   "execution_count": 6,
   "id": "94076c9e-e236-472e-a958-fe4e35a01c56",
   "metadata": {},
   "outputs": [
    {
     "data": {
      "text/plain": [
       "SweepMatrix(array([[ 9.2,  0.4,  0.6],\n",
       "       [ 0.4, -0.2,  1.2],\n",
       "       [ 0.6,  1.2,  1.8]]))"
      ]
     },
     "execution_count": 6,
     "metadata": {},
     "output_type": "execute_result"
    }
   ],
   "source": [
    "A.sweep_k(1) # sweep the kth diagonal\n",
    "A"
   ]
  },
  {
   "cell_type": "code",
   "execution_count": 7,
   "id": "34f3fec0-19fd-4441-91f4-4c563d6bb14a",
   "metadata": {},
   "outputs": [
    {
     "data": {
      "text/plain": [
       "SweepMatrix(array([[10.,  2.,  3.],\n",
       "       [ 2.,  5.,  6.],\n",
       "       [ 3.,  6.,  9.]]))"
      ]
     },
     "execution_count": 7,
     "metadata": {},
     "output_type": "execute_result"
    }
   ],
   "source": [
    "A.sweep_k(1, inv=True) # unweep the kth diagonal\n",
    "A"
   ]
  }
 ],
 "metadata": {
  "kernelspec": {
   "display_name": "Python 3 (ipykernel)",
   "language": "python",
   "name": "python3"
  },
  "language_info": {
   "codemirror_mode": {
    "name": "ipython",
    "version": 3
   },
   "file_extension": ".py",
   "mimetype": "text/x-python",
   "name": "python",
   "nbconvert_exporter": "python",
   "pygments_lexer": "ipython3",
   "version": "3.10.6"
  }
 },
 "nbformat": 4,
 "nbformat_minor": 5
}
