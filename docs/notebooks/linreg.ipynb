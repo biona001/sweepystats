{
 "cells": [
  {
   "cell_type": "markdown",
   "id": "a1bad9ca-74a9-421a-aeb2-277339b1b989",
   "metadata": {},
   "source": [
    "# Linear Regression\n",
    "\n",
    "> The importance of the sweep operation in statistical computing is not so much that it is an inversion technique, but rather that is a conceptual tool for understanding the least squares process. Without this conceptual tool, it is **extremely difficult** to explain concepts such as absorption and what the R notation is testing in terms of the parameters of the model.  \n",
    "> --James Goodnight (1978)"
   ]
  },
  {
   "cell_type": "code",
   "execution_count": 1,
   "id": "deb0bcef-9f75-4bc0-8005-ecd13343ceb9",
   "metadata": {},
   "outputs": [],
   "source": [
    "import sweepystats as sw\n",
    "import numpy as np"
   ]
  },
  {
   "cell_type": "markdown",
   "id": "8c47a48c-908e-429f-b0a0-a8b5b570eb85",
   "metadata": {},
   "source": [
    "Lets generate some random data. Here we simulated 10 samples each with 3 covariates. "
   ]
  },
  {
   "cell_type": "code",
   "execution_count": 2,
   "id": "30bd32b1-11cf-4fe5-bfa8-b0ead49d41d0",
   "metadata": {},
   "outputs": [],
   "source": [
    "X = np.random.normal(10, 3, size=(10, 3))\n",
    "beta = np.array([1., 2., 3.])\n",
    "y = X @ beta + np.random.normal(5)"
   ]
  },
  {
   "cell_type": "markdown",
   "id": "79010016-996e-48dd-ad09-d94252f84345",
   "metadata": {},
   "source": [
    "We can form an instance of the `LinearRegression` class and fit it as follows:"
   ]
  },
  {
   "cell_type": "code",
   "execution_count": 3,
   "id": "417b8a9b-adb8-428b-965e-3c5b5579f650",
   "metadata": {},
   "outputs": [
    {
     "name": "stderr",
     "output_type": "stream",
     "text": [
      "100%|██████████████████████████████████████████████████| 3/3 [00:00<00:00, 8060.80it/s]\n"
     ]
    }
   ],
   "source": [
    "ols = sw.LinearRegression(X, y)\n",
    "ols.fit()"
   ]
  },
  {
   "cell_type": "markdown",
   "id": "092ba139-fd05-44fe-9f29-c272bc6369dc",
   "metadata": {},
   "source": [
    "The resulting beta coefficient can be extracted as"
   ]
  },
  {
   "cell_type": "code",
   "execution_count": 4,
   "id": "d3b2841d-c321-48ce-b314-686e08f18605",
   "metadata": {},
   "outputs": [
    {
     "data": {
      "text/plain": [
       "array([1.23248944, 2.18899434, 3.28287515])"
      ]
     },
     "execution_count": 4,
     "metadata": {},
     "output_type": "execute_result"
    }
   ],
   "source": [
    "beta = ols.coef()\n",
    "beta"
   ]
  },
  {
   "cell_type": "markdown",
   "id": "d2044616-22e0-4e01-a0b6-c3da50a310b5",
   "metadata": {},
   "source": [
    "The sum-of-square residuals is"
   ]
  },
  {
   "cell_type": "code",
   "execution_count": 5,
   "id": "ffd6a576-ee7f-43d9-bd41-ea3ef1d55d79",
   "metadata": {},
   "outputs": [
    {
     "data": {
      "text/plain": [
       "np.float64(9.464187503488802)"
      ]
     },
     "execution_count": 5,
     "metadata": {},
     "output_type": "execute_result"
    }
   ],
   "source": [
    "resid = ols.resid()\n",
    "resid"
   ]
  },
  {
   "cell_type": "markdown",
   "id": "d7521428-35c1-4000-abb0-dba0cdd883ad",
   "metadata": {},
   "source": [
    "In addition, we can extract Var($\\hat{\\beta}$) and the standard deviation of $\\hat{\\beta}$:"
   ]
  },
  {
   "cell_type": "code",
   "execution_count": 6,
   "id": "c99130db-d8db-4683-a5de-a421f0d07393",
   "metadata": {},
   "outputs": [
    {
     "data": {
      "text/plain": [
       "array([0.13228845, 0.17715883, 0.10127559])"
      ]
     },
     "execution_count": 6,
     "metadata": {},
     "output_type": "execute_result"
    }
   ],
   "source": [
    "cov = ols.cov()\n",
    "std = ols.coef_std()\n",
    "std"
   ]
  },
  {
   "cell_type": "markdown",
   "id": "2ce8b0ff-fe1f-4080-9f80-50e577a6a140",
   "metadata": {},
   "source": [
    "We can also check R2 (coefficient of determination):"
   ]
  },
  {
   "cell_type": "code",
   "execution_count": 7,
   "id": "5a1f26e3-c0a0-4f46-b699-591a42792203",
   "metadata": {},
   "outputs": [
    {
     "data": {
      "text/plain": [
       "np.float64(0.987899852888527)"
      ]
     },
     "execution_count": 7,
     "metadata": {},
     "output_type": "execute_result"
    }
   ],
   "source": [
    "ols.R2()"
   ]
  },
  {
   "cell_type": "markdown",
   "id": "6f1d58b3-3e8e-4d31-819c-78e86cfabdec",
   "metadata": {},
   "source": [
    "## Comparison with `numpy`\n",
    "\n",
    "For comparison, lets check whether the answer agrees with the least squares solution implemented in `numpy` package. "
   ]
  },
  {
   "cell_type": "code",
   "execution_count": 8,
   "id": "7212f830-0b1f-48be-8357-63773e262804",
   "metadata": {},
   "outputs": [
    {
     "data": {
      "text/plain": [
       "array([1.23248944, 2.18899434, 3.28287515])"
      ]
     },
     "execution_count": 8,
     "metadata": {},
     "output_type": "execute_result"
    }
   ],
   "source": [
    "# least squares solution by QR\n",
    "beta, resid, _, _ = np.linalg.lstsq(X, y)\n",
    "beta"
   ]
  },
  {
   "cell_type": "code",
   "execution_count": 9,
   "id": "9151f249-02fd-4abb-9132-e86847a5b31e",
   "metadata": {},
   "outputs": [
    {
     "data": {
      "text/plain": [
       "array([9.4641875])"
      ]
     },
     "execution_count": 9,
     "metadata": {},
     "output_type": "execute_result"
    }
   ],
   "source": [
    "resid # true residuals"
   ]
  },
  {
   "cell_type": "markdown",
   "id": "07e154ab-2717-4e4b-b177-c871ac43e2b5",
   "metadata": {},
   "source": [
    "`numpy` doesn't have built-in methods to extract Var($\\hat{\\beta}$) or std of beta, but we can manually extract them as:"
   ]
  },
  {
   "cell_type": "code",
   "execution_count": 10,
   "id": "26991cbf-734e-46e8-a65c-5019ba4dd74b",
   "metadata": {},
   "outputs": [
    {
     "data": {
      "text/plain": [
       "array([[ 0.01750023, -0.01620656, -0.00247337],\n",
       "       [-0.01620656,  0.03138525, -0.00973216],\n",
       "       [-0.00247337, -0.00973216,  0.01025674]])"
      ]
     },
     "execution_count": 10,
     "metadata": {},
     "output_type": "execute_result"
    }
   ],
   "source": [
    "# true Var(beta)\n",
    "n, p = 10, 3\n",
    "sigma2 = resid[0] / (n - p)\n",
    "beta_cov = sigma2 * np.linalg.inv(X.T @ X)\n",
    "beta_cov"
   ]
  },
  {
   "cell_type": "code",
   "execution_count": 11,
   "id": "297c37a4-bdec-4df1-8a56-e72b12a5b165",
   "metadata": {},
   "outputs": [
    {
     "data": {
      "text/plain": [
       "array([0.13228845, 0.17715883, 0.10127559])"
      ]
     },
     "execution_count": 11,
     "metadata": {},
     "output_type": "execute_result"
    }
   ],
   "source": [
    "# true std of beta\n",
    "beta_std = np.sqrt(np.diag(beta_cov))\n",
    "beta_std"
   ]
  }
 ],
 "metadata": {
  "kernelspec": {
   "display_name": "Python 3 (ipykernel)",
   "language": "python",
   "name": "python3"
  },
  "language_info": {
   "codemirror_mode": {
    "name": "ipython",
    "version": 3
   },
   "file_extension": ".py",
   "mimetype": "text/x-python",
   "name": "python",
   "nbconvert_exporter": "python",
   "pygments_lexer": "ipython3",
   "version": "3.10.6"
  }
 },
 "nbformat": 4,
 "nbformat_minor": 5
}
